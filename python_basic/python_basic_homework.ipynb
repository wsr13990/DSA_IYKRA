{
 "cells": [
  {
   "cell_type": "markdown",
   "metadata": {},
   "source": [
    "# Telkomsel Data Science Academy Homework\n",
    "<br>\n",
    "Prepared by : Wahyu Sejati Roso<br>\n",
    "NIK : 90048<br> "
   ]
  },
  {
   "cell_type": "markdown",
   "metadata": {},
   "source": [
    "Data Source : [Kaggle Dataset](https://www.kaggle.com/lava18/google-play-store-apps#googleplaystore.csv)"
   ]
  },
  {
   "cell_type": "code",
   "execution_count": 1,
   "metadata": {},
   "outputs": [],
   "source": [
    "import pandas as pd\n",
    "import numpy as np"
   ]
  },
  {
   "cell_type": "code",
   "execution_count": 2,
   "metadata": {},
   "outputs": [],
   "source": [
    "data = pd.read_csv('./google-play-store-apps/googleplaystore.csv')"
   ]
  },
  {
   "cell_type": "markdown",
   "metadata": {},
   "source": [
    "**1. How many rows and columns reflected on dataset file googleplaystore.csv?**"
   ]
  },
  {
   "cell_type": "code",
   "execution_count": 3,
   "metadata": {},
   "outputs": [
    {
     "name": "stdout",
     "output_type": "stream",
     "text": [
      "Before preprocessing there are 10841 rows and 13 columns in googleplaystore.csv\n"
     ]
    }
   ],
   "source": [
    "row = data.shape[0]\n",
    "col = data.shape[1]\n",
    "print('Before preprocessing there are '+str(row)+' rows and '+str(col)+' columns in googleplaystore.csv')"
   ]
  },
  {
   "cell_type": "markdown",
   "metadata": {},
   "source": [
    "**2. How many unique app categories that cover in this dataset?**"
   ]
  },
  {
   "cell_type": "markdown",
   "metadata": {},
   "source": [
    "Before doing further analysis first we need to delete duplicate rows and change dtypes."
   ]
  },
  {
   "cell_type": "markdown",
   "metadata": {},
   "source": [
    "Drop data with invalid format."
   ]
  },
  {
   "cell_type": "code",
   "execution_count": 5,
   "metadata": {},
   "outputs": [],
   "source": [
    "data = data[data['Installs']!='Free']"
   ]
  },
  {
   "cell_type": "code",
   "execution_count": 6,
   "metadata": {},
   "outputs": [],
   "source": [
    "data.drop_duplicates(subset='App', inplace=True)\n",
    "cols = ['Category', 'Genres', 'Content Rating']\n",
    "for col in cols:\n",
    "    data[col] = data[col].astype('category')\n",
    "data['Reviews'] = data['Reviews'].astype(int)"
   ]
  },
  {
   "cell_type": "code",
   "execution_count": 7,
   "metadata": {},
   "outputs": [
    {
     "name": "stdout",
     "output_type": "stream",
     "text": [
      "Affter removing data with invalid format, there are 33 categories in the dataset\n"
     ]
    }
   ],
   "source": [
    "uniq_cat=len(data['Category'].unique())\n",
    "print('Affter removing data with invalid format, there are '+str(uniq_cat)+' categories in the dataset')"
   ]
  },
  {
   "cell_type": "markdown",
   "metadata": {},
   "source": [
    "**3. What are top 3 apps that have highest number of users installed/download among all categories?**"
   ]
  },
  {
   "cell_type": "markdown",
   "metadata": {},
   "source": [
    "In case of duplicate app record, because last update column is not unique, we will use record with largest number of reviews assuming it's the latest record."
   ]
  },
  {
   "cell_type": "code",
   "execution_count": 8,
   "metadata": {},
   "outputs": [],
   "source": [
    "data = data.sort_values('Reviews',ascending=False).drop_duplicates(subset='App')"
   ]
  },
  {
   "cell_type": "markdown",
   "metadata": {},
   "source": [
    "We create new column containing number of download in int64 format for further analysis."
   ]
  },
  {
   "cell_type": "code",
   "execution_count": 9,
   "metadata": {
    "scrolled": true
   },
   "outputs": [],
   "source": [
    "data['Installed_more_than'] = data['Installs'].str.replace('+','')\n",
    "data['Installed_more_than'] = data['Installed_more_than'].str.replace(',','')\n",
    "data['Installed_more_than']=data['Installed_more_than'].astype('int')"
   ]
  },
  {
   "cell_type": "markdown",
   "metadata": {},
   "source": [
    "The following are the largest number of app download in all category"
   ]
  },
  {
   "cell_type": "code",
   "execution_count": 10,
   "metadata": {},
   "outputs": [
    {
     "name": "stdout",
     "output_type": "stream",
     "text": [
      "The app with largest number of download in all category are:\n",
      "* Google Photos\n",
      "* Google+\n",
      "* Google Drive\n"
     ]
    }
   ],
   "source": [
    "top3 = data[['App','Installed_more_than']].groupby('App',as_index=False).sum().sort_values('Installed_more_than',ascending=False).head(3)['App'].to_list()\n",
    "print('The app with largest number of download in all category are:')\n",
    "for i in top3:\n",
    "    print('* '+i)"
   ]
  },
  {
   "cell_type": "markdown",
   "metadata": {},
   "source": [
    "**4. What are top 3 apps that have highest number of users installed/download among the following categories: (Hint: use installs column)<br>\n",
    "A. Business<br>\n",
    "B. Communication<br>\n",
    "C. Game<br>\n",
    "D. Dating<br>\n",
    "E. Music<br>**"
   ]
  },
  {
   "cell_type": "markdown",
   "metadata": {},
   "source": [
    "Because category music doesn't exist in the category column but in genre column, we will use genre column instead."
   ]
  },
  {
   "cell_type": "code",
   "execution_count": 11,
   "metadata": {},
   "outputs": [
    {
     "name": "stdout",
     "output_type": "stream",
     "text": [
      "Top 3 highest rated app in category Business are\n",
      "* File Commander - File Manager/Explorer (Downloaded more than : 100000000 times)\n",
      "* OfficeSuite : Free Office + PDF Editor (Downloaded more than : 100000000 times)\n",
      "* Facebook Pages Manager (Downloaded more than : 50000000 times)\n",
      "\n",
      "\n",
      "Top 3 highest rated app in category Communication are\n",
      "* Google Chrome: Fast & Secure (Downloaded more than : 1000000000 times)\n",
      "* WhatsApp Messenger (Downloaded more than : 1000000000 times)\n",
      "* Hangouts (Downloaded more than : 1000000000 times)\n",
      "\n",
      "\n",
      "Top 3 highest rated app in category Game are\n",
      "* Where's My Water? Free (Downloaded more than : 100000000 times)\n",
      "* Word Search Games in english (Downloaded more than : 10000000 times)\n",
      "* Peak – Brain Games & Training (Downloaded more than : 10000000 times)\n",
      "\n",
      "\n",
      "Top 3 highest rated app in category Dating are\n",
      "* OkCupid Dating (Downloaded more than : 10000000 times)\n",
      "* Moco - Chat, Meet People (Downloaded more than : 10000000 times)\n",
      "* Hitwe - meet people and chat (Downloaded more than : 10000000 times)\n",
      "\n",
      "\n",
      "Top 3 highest rated app in category Music are\n",
      "* YouTube Kids (Downloaded more than : 50000000 times)\n",
      "* Piano Free - Keyboard with Magic Tiles Music Games (Downloaded more than : 50000000 times)\n",
      "* Magic Tiles 3 (Downloaded more than : 50000000 times)\n",
      "\n",
      "\n"
     ]
    }
   ],
   "source": [
    "for category in ['Business','Communication','Game','Dating','Music']:\n",
    "    top3 = []\n",
    "    top3 = data[data['Genres'].str.contains(category,regex=False)][['App','Genres','Installed_more_than']].\\\n",
    "    groupby(['App'],as_index = False).sum().sort_values('Installed_more_than',ascending=False,).head(3)\n",
    "    if np.shape(top3)[0] == 0:\n",
    "        print('No app with category '+category+' in the dataset')\n",
    "    else:\n",
    "        print('Top 3 highest rated app in category '+category+' are')\n",
    "        for i in range(np.shape(top3)[0]):\n",
    "            print('* '+top3.iloc[i,0]+' (Downloaded more than : '+str(top3.iloc[i,1])+' times)')\n",
    "    print('\\n')"
   ]
  },
  {
   "cell_type": "markdown",
   "metadata": {},
   "source": [
    "**5. What are top 3 apps that have highest rating among the\n",
    "following categories:<br>\n",
    "A. Business<br>\n",
    "B. Communication<br>\n",
    "C. Game<br>\n",
    "D. Dating<br>\n",
    "E. Music<br>**"
   ]
  },
  {
   "cell_type": "code",
   "execution_count": 12,
   "metadata": {},
   "outputs": [
    {
     "name": "stdout",
     "output_type": "stream",
     "text": [
      "Top 3 highest rated app in category Business are\n",
      "* EF App (Average Rating: 5.0)\n",
      "* DW Security (Average Rating: 5.0)\n",
      "* DB Pickles (Average Rating: 5.0)\n",
      "\n",
      "\n",
      "Top 3 highest rated app in category Communication are\n",
      "* chat dz (Average Rating: 5.0)\n",
      "* EJ messenger (Average Rating: 5.0)\n",
      "* Cb browser (Average Rating: 5.0)\n",
      "\n",
      "\n",
      "Top 3 highest rated app in category Game are\n",
      "* Pino chess (Average Rating: 4.8)\n",
      "* Hactar Go (Average Rating: 4.8)\n",
      "* No. Color - Color by Number, Number Coloring (Average Rating: 4.8)\n",
      "\n",
      "\n",
      "Top 3 highest rated app in category Dating are\n",
      "* Online Girls Chat Group (Average Rating: 5.0)\n",
      "* Girls Live Talk - Free Text and Video Chat (Average Rating: 5.0)\n",
      "* American Girls Mobile Numbers (Average Rating: 5.0)\n",
      "\n",
      "\n",
      "Top 3 highest rated app in category Music are\n",
      "* Classical music for baby (Average Rating: 4.8)\n",
      "* Learn Music Notes (Average Rating: 4.7)\n",
      "* Cytus (Average Rating: 4.7)\n",
      "\n",
      "\n"
     ]
    }
   ],
   "source": [
    "for category in ['Business','Communication','Game','Dating','Music']:\n",
    "    top3 = []\n",
    "    top3 = data[data['Genres'].str.contains(category,regex=False)][['App','Genres','Rating']].\\\n",
    "    groupby(['App'],as_index = False).sum().sort_values('Rating',ascending=False,).head(3)\n",
    "    if np.shape(top3)[0] == 0:\n",
    "        print('No app with category '+category+' in the dataset')\n",
    "    else:\n",
    "        print('Top 3 highest rated app in category '+category+' are')\n",
    "        for i in range(np.shape(top3)[0]):\n",
    "            print('* '+top3.iloc[i,0]+' (Average Rating: '+str(top3.iloc[i,1])+')')\n",
    "    print('\\n')"
   ]
  },
  {
   "cell_type": "markdown",
   "metadata": {},
   "source": [
    "**6. If you use two criteria (installs and rating), what are top 3\n",
    "apps for the following categories?<br>\n",
    "A. Business<br>\n",
    "B. Communication<br>\n",
    "C. Game<br>\n",
    "D. Dating<br>\n",
    "E. Music<br>**"
   ]
  },
  {
   "cell_type": "code",
   "execution_count": 13,
   "metadata": {},
   "outputs": [
    {
     "name": "stdout",
     "output_type": "stream",
     "text": [
      "Top 3 App based on number of download and rating in category Business are\n",
      "* File Commander - File Manager/Explorer (Downloaded moret than : 100000000 times and average rating: 4.3)\n",
      "* OfficeSuite : Free Office + PDF Editor (Downloaded moret than : 100000000 times and average rating: 4.3)\n",
      "* Vault-Hide SMS,Pics & Videos,App Lock,Cloud backup (Downloaded moret than : 50000000 times and average rating: 4.5)\n",
      "\n",
      "\n",
      "Top 3 App based on number of download and rating in category Communication are\n",
      "* WhatsApp Messenger (Downloaded moret than : 1000000000 times and average rating: 4.4)\n",
      "* Gmail (Downloaded moret than : 1000000000 times and average rating: 4.3)\n",
      "* Google Chrome: Fast & Secure (Downloaded moret than : 1000000000 times and average rating: 4.3)\n",
      "\n",
      "\n",
      "Top 3 App based on number of download and rating in category Game are\n",
      "* Where's My Water? Free (Downloaded moret than : 100000000 times and average rating: 4.4)\n",
      "* No. Color - Color by Number, Number Coloring (Downloaded moret than : 10000000 times and average rating: 4.8)\n",
      "* Masha and the Bear. Educational Games (Downloaded moret than : 10000000 times and average rating: 4.5)\n",
      "\n",
      "\n",
      "Top 3 App based on number of download and rating in category Dating are\n",
      "* Find Real Love — YouLove Premium Dating (Downloaded moret than : 10000000 times and average rating: 4.5)\n",
      "* Chat Rooms, Avatars, Date - Galaxy (Downloaded moret than : 10000000 times and average rating: 4.3)\n",
      "* Hitwe - meet people and chat (Downloaded moret than : 10000000 times and average rating: 4.2)\n",
      "\n",
      "\n",
      "Top 3 App based on number of download and rating in category Music are\n",
      "* Magic Tiles 3 (Downloaded moret than : 50000000 times and average rating: 4.5)\n",
      "* Piano Free - Keyboard with Magic Tiles Music Games (Downloaded moret than : 50000000 times and average rating: 4.5)\n",
      "* YouTube Kids (Downloaded moret than : 50000000 times and average rating: 4.5)\n",
      "\n",
      "\n"
     ]
    }
   ],
   "source": [
    "for category in ['Business','Communication','Game','Dating','Music']:\n",
    "    top3 = []\n",
    "    top3 = data[data['Genres'].str.contains(category,regex=False)][['App','Genres','Installed_more_than','Rating']].\\\n",
    "    groupby(['App'],as_index = False).sum().sort_values(['Installed_more_than','Rating'],ascending=False,).head(3)\n",
    "    if np.shape(top3)[0] == 0:\n",
    "        print('No app with category '+category+' in the dataset')\n",
    "    else:\n",
    "        print('Top 3 App based on number of download and rating in category '+category+' are')\n",
    "        for i in range(np.shape(top3)[0]):\n",
    "            print('* '+top3.iloc[i,0]+' (Downloaded moret than : '+str(top3.iloc[i,1])+\\\n",
    "                  ' times and average rating: '+str(top3.iloc[i,2])+')')\n",
    "    print('\\n')"
   ]
  },
  {
   "cell_type": "code",
   "execution_count": 20,
   "metadata": {},
   "outputs": [
    {
     "name": "stdout",
     "output_type": "stream",
     "text": [
      "Top 3 App based on number of download and rating in category Music are\n",
      "* WhatsApp Messenger (Downloaded moret than : 69119316)\n",
      "* Messenger – Text and Video Chat for Free (Downloaded moret than : 56642847)\n",
      "* UC Browser - Fast Download Private & Secure (Downloaded moret than : 17712922)\n",
      "* BBM - Free Calls & Messages (Downloaded moret than : 12842860)\n",
      "* Viber Messenger (Downloaded moret than : 11334799)\n",
      "* LINE: Free Calls & Messages (Downloaded moret than : 10790289)\n",
      "* Skype - free IM & video calls (Downloaded moret than : 10484169)\n",
      "* Google Chrome: Fast & Secure (Downloaded moret than : 9642995)\n",
      "* Truecaller: Caller ID, SMS spam blocking & Dialer (Downloaded moret than : 7820209)\n",
      "* WeChat (Downloaded moret than : 5387333)\n",
      "* Opera Mini - fast web browser (Downloaded moret than : 5149854)\n",
      "* imo free video calls and chat (Downloaded moret than : 4785892)\n",
      "* Gmail (Downloaded moret than : 4604324)\n",
      "* Yahoo Mail – Stay Organized (Downloaded moret than : 4187998)\n",
      "* UC Browser Mini -Tiny Fast Private & Secure (Downloaded moret than : 3648120)\n",
      "* Hangouts (Downloaded moret than : 3419249)\n",
      "* Telegram (Downloaded moret than : 3128250)\n",
      "* Firefox Browser fast & private (Downloaded moret than : 3075028)\n",
      "* GO SMS Pro - Messenger, Free Themes, Emoji (Downloaded moret than : 2876500)\n",
      "* KakaoTalk: Free Calls & Text (Downloaded moret than : 2546527)\n",
      "\n",
      "\n"
     ]
    }
   ],
   "source": [
    "top3 = data[data['Category'].str.contains('COMMUNICATION',regex=False)][['App','Category','Reviews']].\\\n",
    "groupby(['App'],as_index = False).sum().sort_values(['Reviews'],ascending=False,).head(20)\n",
    "if np.shape(top3)[0] == 0:\n",
    "    print('No app with category '+category+' in the dataset')\n",
    "else:\n",
    "    print('Top 3 App based on number of download and rating in category '+category+' are')\n",
    "    for i in range(np.shape(top3)[0]):\n",
    "        print('* '+top3.iloc[i,0]+' (Downloaded moret than : '+str(top3.iloc[i,1])+')')\n",
    "print('\\n')"
   ]
  },
  {
   "cell_type": "code",
   "execution_count": null,
   "metadata": {},
   "outputs": [],
   "source": []
  }
 ],
 "metadata": {
  "kernelspec": {
   "display_name": "Python 3",
   "language": "python",
   "name": "python3"
  },
  "language_info": {
   "codemirror_mode": {
    "name": "ipython",
    "version": 3
   },
   "file_extension": ".py",
   "mimetype": "text/x-python",
   "name": "python",
   "nbconvert_exporter": "python",
   "pygments_lexer": "ipython3",
   "version": "3.6.8"
  }
 },
 "nbformat": 4,
 "nbformat_minor": 2
}
